{
 "cells": [
  {
   "cell_type": "markdown",
   "id": "96ac1922",
   "metadata": {
    "id": "96ac1922"
   },
   "source": [
    "# Шаблон для проекта по A/B - тестам."
   ]
  },
  {
   "cell_type": "markdown",
   "id": "e01e5ec9",
   "metadata": {
    "id": "e01e5ec9"
   },
   "source": [
    "### `chat_id ` из Телеграма:"
   ]
  },
  {
   "cell_type": "code",
   "execution_count": null,
   "id": "0xp67Ep3Wiqd",
   "metadata": {
    "id": "0xp67Ep3Wiqd"
   },
   "outputs": [],
   "source": [
    "511551989"
   ]
  },
  {
   "cell_type": "markdown",
   "id": "1fb036f5",
   "metadata": {
    "id": "1fb036f5"
   },
   "source": [
    "------------------"
   ]
  },
  {
   "cell_type": "markdown",
   "id": "d8c6f14f",
   "metadata": {
    "id": "d8c6f14f"
   },
   "source": [
    "##  <ins>Задание 1.</ins>"
   ]
  },
  {
   "cell_type": "markdown",
   "id": "a7e2eacb-ea24-47d8-a67e-1632364fdf74",
   "metadata": {},
   "source": [
    "Контекст\n",
    "Мы считаем, что наш продукт достаточно дорогой для клиента.\n",
    "У нас есть гипотеза, что уменьшение цены продукта\n",
    "позволит повысить частоту продаж\n",
    "и суммарно увеличит доходность продукта.\n",
    "        \n",
    "Тест\n",
    "Мы проводим тест,\n",
    "в рамках которого контролем является\n",
    "продажа продукта со старой ценой,\n",
    "а тестом - продажа продукта с новой ценой.\n",
    "Целью этого теста\n",
    "является проверка гипотезы роста доходности\n",
    "нашего продукта из-за уменьшения тарифа.\n",
    "\n",
    "Статистические вводные\n",
    "Уровень значимости 5%.\n",
    "Мы хотели бы различать 5%-ное\n",
    "изменение целевой метрики\n",
    "с вероятностью 80%."
   ]
  },
  {
   "cell_type": "markdown",
   "id": "cMi1ZWvej6zB",
   "metadata": {
    "id": "cMi1ZWvej6zB"
   },
   "source": [
    "### 0. Запосить у бота в Телеграме условие командой `/get_project1_desc`."
   ]
  },
  {
   "cell_type": "markdown",
   "id": "0dd4c840",
   "metadata": {
    "id": "0dd4c840"
   },
   "source": [
    "### 1. Необходимо выбрать метрику и привести аргументацию."
   ]
  },
  {
   "cell_type": "markdown",
   "id": "KIVoAjkm_HwI",
   "metadata": {
    "id": "KIVoAjkm_HwI"
   },
   "source": [
    "\n",
    "Выбранная метрика средний NPV по всем клиентам.\n",
    "Выбрав эту метрику можно определить, что снижение цены на продукт даст статзначимый результат, так как этот показатель учитывает, как доход от клиента, так и расход от его привелечения"
   ]
  },
  {
   "cell_type": "markdown",
   "id": "b644cd0a",
   "metadata": {
    "id": "b644cd0a"
   },
   "source": [
    "### 2. Альтернатива в критерии."
   ]
  },
  {
   "cell_type": "markdown",
   "id": "73cf9c30-94a0-43c6-9fbb-ca61d108865a",
   "metadata": {
    "id": "KFMpcB0mjJXN"
   },
   "source": [
    "$H_0$- средний NPV не поменялось\n",
    "\n",
    "$H_1$ - средний NPV в тесте больше среднего NPV в контроле"
   ]
  },
  {
   "cell_type": "markdown",
   "id": "727aefc4",
   "metadata": {
    "id": "727aefc4"
   },
   "source": [
    "### 3.1. Каков размер выборки? Привести аргументацию и написать как получилось то или иное число."
   ]
  },
  {
   "cell_type": "code",
   "execution_count": 21,
   "id": "fYijOurfjLNp",
   "metadata": {
    "id": "fYijOurfjLNp"
   },
   "outputs": [
    {
     "data": {
      "text/html": [
       "<div>\n",
       "<style scoped>\n",
       "    .dataframe tbody tr th:only-of-type {\n",
       "        vertical-align: middle;\n",
       "    }\n",
       "\n",
       "    .dataframe tbody tr th {\n",
       "        vertical-align: top;\n",
       "    }\n",
       "\n",
       "    .dataframe thead th {\n",
       "        text-align: right;\n",
       "    }\n",
       "</style>\n",
       "<table border=\"1\" class=\"dataframe\">\n",
       "  <thead>\n",
       "    <tr style=\"text-align: right;\">\n",
       "      <th></th>\n",
       "      <th>ID</th>\n",
       "      <th>Флаг дозвона</th>\n",
       "      <th>Флаг продажи</th>\n",
       "      <th>Расходы</th>\n",
       "      <th>PV</th>\n",
       "      <th>NPV</th>\n",
       "    </tr>\n",
       "  </thead>\n",
       "  <tbody>\n",
       "    <tr>\n",
       "      <th>0</th>\n",
       "      <td>0</td>\n",
       "      <td>1</td>\n",
       "      <td>0</td>\n",
       "      <td>90</td>\n",
       "      <td>0</td>\n",
       "      <td>-90</td>\n",
       "    </tr>\n",
       "    <tr>\n",
       "      <th>1</th>\n",
       "      <td>1</td>\n",
       "      <td>0</td>\n",
       "      <td>0</td>\n",
       "      <td>5</td>\n",
       "      <td>0</td>\n",
       "      <td>-5</td>\n",
       "    </tr>\n",
       "    <tr>\n",
       "      <th>2</th>\n",
       "      <td>2</td>\n",
       "      <td>0</td>\n",
       "      <td>0</td>\n",
       "      <td>68</td>\n",
       "      <td>0</td>\n",
       "      <td>-68</td>\n",
       "    </tr>\n",
       "    <tr>\n",
       "      <th>3</th>\n",
       "      <td>3</td>\n",
       "      <td>1</td>\n",
       "      <td>0</td>\n",
       "      <td>22</td>\n",
       "      <td>0</td>\n",
       "      <td>-22</td>\n",
       "    </tr>\n",
       "    <tr>\n",
       "      <th>4</th>\n",
       "      <td>4</td>\n",
       "      <td>1</td>\n",
       "      <td>0</td>\n",
       "      <td>22</td>\n",
       "      <td>0</td>\n",
       "      <td>-22</td>\n",
       "    </tr>\n",
       "    <tr>\n",
       "      <th>...</th>\n",
       "      <td>...</td>\n",
       "      <td>...</td>\n",
       "      <td>...</td>\n",
       "      <td>...</td>\n",
       "      <td>...</td>\n",
       "      <td>...</td>\n",
       "    </tr>\n",
       "    <tr>\n",
       "      <th>72156</th>\n",
       "      <td>72156</td>\n",
       "      <td>1</td>\n",
       "      <td>1</td>\n",
       "      <td>577</td>\n",
       "      <td>1346</td>\n",
       "      <td>769</td>\n",
       "    </tr>\n",
       "    <tr>\n",
       "      <th>72157</th>\n",
       "      <td>72157</td>\n",
       "      <td>0</td>\n",
       "      <td>0</td>\n",
       "      <td>8</td>\n",
       "      <td>0</td>\n",
       "      <td>-8</td>\n",
       "    </tr>\n",
       "    <tr>\n",
       "      <th>72158</th>\n",
       "      <td>72158</td>\n",
       "      <td>0</td>\n",
       "      <td>0</td>\n",
       "      <td>23</td>\n",
       "      <td>0</td>\n",
       "      <td>-23</td>\n",
       "    </tr>\n",
       "    <tr>\n",
       "      <th>72159</th>\n",
       "      <td>72159</td>\n",
       "      <td>0</td>\n",
       "      <td>0</td>\n",
       "      <td>4</td>\n",
       "      <td>0</td>\n",
       "      <td>-4</td>\n",
       "    </tr>\n",
       "    <tr>\n",
       "      <th>72160</th>\n",
       "      <td>72160</td>\n",
       "      <td>1</td>\n",
       "      <td>1</td>\n",
       "      <td>132</td>\n",
       "      <td>1385</td>\n",
       "      <td>1253</td>\n",
       "    </tr>\n",
       "  </tbody>\n",
       "</table>\n",
       "<p>72161 rows × 6 columns</p>\n",
       "</div>"
      ],
      "text/plain": [
       "          ID  Флаг дозвона  Флаг продажи  Расходы    PV   NPV\n",
       "0          0             1             0       90     0   -90\n",
       "1          1             0             0        5     0    -5\n",
       "2          2             0             0       68     0   -68\n",
       "3          3             1             0       22     0   -22\n",
       "4          4             1             0       22     0   -22\n",
       "...      ...           ...           ...      ...   ...   ...\n",
       "72156  72156             1             1      577  1346   769\n",
       "72157  72157             0             0        8     0    -8\n",
       "72158  72158             0             0       23     0   -23\n",
       "72159  72159             0             0        4     0    -4\n",
       "72160  72160             1             1      132  1385  1253\n",
       "\n",
       "[72161 rows x 6 columns]"
      ]
     },
     "execution_count": 21,
     "metadata": {},
     "output_type": "execute_result"
    }
   ],
   "source": [
    "import numpy as np\n",
    "import pandas as pd\n",
    "import matplotlib.pyplot as plt\n",
    "import pylab\n",
    "import scipy\n",
    "import scipy.stats as stats\n",
    "import statsmodels.stats.api as sms\n",
    "from statsmodels.stats.proportion import proportions_ztest\n",
    "from scipy.stats import ttest_ind, mannwhitneyu\n",
    "#from tqdm.notebook import tqdm\n",
    "data = pd.read_csv(\"hist_telesales.csv\")\n",
    "df_1\n"
   ]
  },
  {
   "cell_type": "markdown",
   "id": "78810c5e-06eb-4c24-a0f1-fdf9bc6d6454",
   "metadata": {},
   "source": [
    "Выбираем правосторонюю альтернативу"
   ]
  },
  {
   "cell_type": "markdown",
   "id": "60852dec-abb0-4f83-a209-24eba463f117",
   "metadata": {
    "id": "vIB2t80WBCnw"
   },
   "source": [
    "A = 0.05\n",
    "\n",
    "B = 0.2 (1 - 0.8)\n",
    "\n",
    "MDE = 0.05 * data['PV'].mean()\n",
    "\n",
    "Дисперсия NPV = np.var(data['NPV'])"
   ]
  },
  {
   "cell_type": "code",
   "execution_count": 23,
   "id": "579cea01-1420-4a0e-8c2a-4ee1a20ee8a8",
   "metadata": {},
   "outputs": [
    {
     "name": "stdout",
     "output_type": "stream",
     "text": [
      "28671\n"
     ]
    }
   ],
   "source": [
    "n = (2 * np.var(data['NPV'])*(scipy.stats.norm.ppf(0.95) - scipy.stats.norm.ppf(0.2))**2) / (0.05 * data['NPV'].mean())**2\n",
    "print(round(n))"
   ]
  },
  {
   "cell_type": "markdown",
   "id": "8df8ee73",
   "metadata": {
    "id": "8df8ee73"
   },
   "source": [
    "### 3.2. Необходимо запросить у бота в Телеграме выборку полученного размера командой `/get_project1_sample {размер выборки}` и вписать <ins>код выборки</ins>:"
   ]
  },
  {
   "cell_type": "markdown",
   "id": "q5p1jKQm0-_b",
   "metadata": {
    "id": "q5p1jKQm0-_b"
   },
   "source": [
    "Код выборки: 37510\n"
   ]
  },
  {
   "cell_type": "code",
   "execution_count": 25,
   "id": "b2e8265d-1145-4e39-8393-36da389fcb1f",
   "metadata": {},
   "outputs": [],
   "source": [
    "control_data = pd.read_csv('Контроль.csv')\n",
    "test_data = pd.read_csv('Тест.csv')"
   ]
  },
  {
   "cell_type": "code",
   "execution_count": 27,
   "id": "46f7a7a4-43ec-43df-853b-2797fa65a6b5",
   "metadata": {},
   "outputs": [
    {
     "data": {
      "text/plain": [
       "TtestResult(statistic=-1.5350078138361862, pvalue=0.0623937574216684, df=56432.0)"
      ]
     },
     "execution_count": 27,
     "metadata": {},
     "output_type": "execute_result"
    }
   ],
   "source": [
    "scipy.stats.ttest_ind(control_data['NPV'], test_data['NPV'], alternative='less')"
   ]
  },
  {
   "cell_type": "markdown",
   "id": "JgOYtrdJCE9i",
   "metadata": {
    "id": "JgOYtrdJCE9i"
   },
   "source": [
    "from scipy.stats import ttest_ind\n",
    "scipy.stats.ttest_ind(control_data['NPV'], test_data['NPV'], test_data='less')\n"
   ]
  },
  {
   "cell_type": "markdown",
   "id": "22e2d9b0",
   "metadata": {
    "id": "22e2d9b0"
   },
   "source": [
    "### 4. Принятие решения. Расписать подробно с аргументами."
   ]
  },
  {
   "cell_type": "markdown",
   "id": "TX6bdQoBD9ZN",
   "metadata": {
    "id": "TX6bdQoBD9ZN"
   },
   "source": [
    "**Вывод:**\n",
    "Вычисленное  pvalue=0.0623937574216684 > alpha, следовательно - принимаем $H_0$.\n",
    "\n",
    "Различие между выборочным средним NPV на тесте и на контроле статистически незначимое.\n",
    "\n"
   ]
  },
  {
   "cell_type": "markdown",
   "id": "7ea196b1",
   "metadata": {
    "id": "7ea196b1"
   },
   "source": [
    "##  <ins>Задание 2.</ins>"
   ]
  },
  {
   "cell_type": "markdown",
   "id": "09d35f9a-fed9-4465-817a-95d7fc9db4f4",
   "metadata": {},
   "source": [
    "**Контекст**\n",
    "\n",
    "Мы провели конкурентный анализ\n",
    "и поняли,\n",
    "что тариф нашей услуги достаточно низкий.\n",
    "Мы хотим попробовать повысить тариф,\n",
    "и надеемся,\n",
    "что снижение конверсии в подключение услуги\n",
    "компенсируется ростом дохода с этой услуги.\n",
    "        \n",
    "**Тест**\n",
    "\n",
    "Мы проводим тест,\n",
    "в рамках которого мы разбиваем весь поток\n",
    "на две части рановероятно,\n",
    "где одной части (контролю) \n",
    "мы будем предлагать старый тариф услуги,\n",
    "а второй части (тесту) - новый тариф услуги.\n",
    "Целью этого теста\n",
    "является увеличение доходности услуги.\n",
    "\n",
    "**Статистические вводные**\n",
    "\n",
    "Проверка однородности выбранного параметра\n",
    "осуществяется с уровнем значимости 2%.\n",
    "Уровень значимости 5%.\n",
    "Мы хотели бы различать 8%-ное\n",
    "изменение целевой метрики\n",
    "с вероятностью 90%."
   ]
  },
  {
   "cell_type": "markdown",
   "id": "M0mI4jfTkCk6",
   "metadata": {
    "id": "M0mI4jfTkCk6"
   },
   "source": [
    "### 0. Запосить у бота в Телеграме условие командой `/get_project2_desc`."
   ]
  },
  {
   "cell_type": "markdown",
   "id": "e4691844",
   "metadata": {
    "id": "e4691844"
   },
   "source": [
    "### 1. Необходимо выбрать метрику и привести аргументацию."
   ]
  },
  {
   "cell_type": "code",
   "execution_count": 38,
   "id": "Q3Zae2tSjQFW",
   "metadata": {
    "id": "Q3Zae2tSjQFW"
   },
   "outputs": [
    {
     "data": {
      "text/html": [
       "<div>\n",
       "<style scoped>\n",
       "    .dataframe tbody tr th:only-of-type {\n",
       "        vertical-align: middle;\n",
       "    }\n",
       "\n",
       "    .dataframe tbody tr th {\n",
       "        vertical-align: top;\n",
       "    }\n",
       "\n",
       "    .dataframe thead th {\n",
       "        text-align: right;\n",
       "    }\n",
       "</style>\n",
       "<table border=\"1\" class=\"dataframe\">\n",
       "  <thead>\n",
       "    <tr style=\"text-align: right;\">\n",
       "      <th></th>\n",
       "      <th>ID</th>\n",
       "      <th>Возраст</th>\n",
       "      <th>Доход клиента</th>\n",
       "      <th>Вероятность банкротства</th>\n",
       "      <th>Флаг утилизации счёта</th>\n",
       "      <th>Расходы</th>\n",
       "      <th>PV КК</th>\n",
       "      <th>PV услуги</th>\n",
       "      <th>NPV</th>\n",
       "    </tr>\n",
       "  </thead>\n",
       "  <tbody>\n",
       "    <tr>\n",
       "      <th>0</th>\n",
       "      <td>0</td>\n",
       "      <td>19</td>\n",
       "      <td>21620.835463</td>\n",
       "      <td>0.138061</td>\n",
       "      <td>0</td>\n",
       "      <td>102</td>\n",
       "      <td>0</td>\n",
       "      <td>0</td>\n",
       "      <td>-102</td>\n",
       "    </tr>\n",
       "    <tr>\n",
       "      <th>1</th>\n",
       "      <td>1</td>\n",
       "      <td>27</td>\n",
       "      <td>24897.990863</td>\n",
       "      <td>0.035508</td>\n",
       "      <td>1</td>\n",
       "      <td>409</td>\n",
       "      <td>11686</td>\n",
       "      <td>1754</td>\n",
       "      <td>13031</td>\n",
       "    </tr>\n",
       "    <tr>\n",
       "      <th>2</th>\n",
       "      <td>2</td>\n",
       "      <td>50</td>\n",
       "      <td>23989.526947</td>\n",
       "      <td>0.098793</td>\n",
       "      <td>0</td>\n",
       "      <td>16</td>\n",
       "      <td>0</td>\n",
       "      <td>0</td>\n",
       "      <td>-16</td>\n",
       "    </tr>\n",
       "    <tr>\n",
       "      <th>3</th>\n",
       "      <td>3</td>\n",
       "      <td>18</td>\n",
       "      <td>38442.409756</td>\n",
       "      <td>0.365661</td>\n",
       "      <td>1</td>\n",
       "      <td>788</td>\n",
       "      <td>13738</td>\n",
       "      <td>1578</td>\n",
       "      <td>14528</td>\n",
       "    </tr>\n",
       "    <tr>\n",
       "      <th>4</th>\n",
       "      <td>4</td>\n",
       "      <td>24</td>\n",
       "      <td>21291.521612</td>\n",
       "      <td>0.036909</td>\n",
       "      <td>1</td>\n",
       "      <td>1048</td>\n",
       "      <td>6594</td>\n",
       "      <td>2213</td>\n",
       "      <td>7759</td>\n",
       "    </tr>\n",
       "    <tr>\n",
       "      <th>...</th>\n",
       "      <td>...</td>\n",
       "      <td>...</td>\n",
       "      <td>...</td>\n",
       "      <td>...</td>\n",
       "      <td>...</td>\n",
       "      <td>...</td>\n",
       "      <td>...</td>\n",
       "      <td>...</td>\n",
       "      <td>...</td>\n",
       "    </tr>\n",
       "    <tr>\n",
       "      <th>123250</th>\n",
       "      <td>123250</td>\n",
       "      <td>32</td>\n",
       "      <td>26099.633927</td>\n",
       "      <td>0.110756</td>\n",
       "      <td>0</td>\n",
       "      <td>47</td>\n",
       "      <td>0</td>\n",
       "      <td>0</td>\n",
       "      <td>-47</td>\n",
       "    </tr>\n",
       "    <tr>\n",
       "      <th>123251</th>\n",
       "      <td>123251</td>\n",
       "      <td>20</td>\n",
       "      <td>24579.749275</td>\n",
       "      <td>0.113920</td>\n",
       "      <td>1</td>\n",
       "      <td>594</td>\n",
       "      <td>14268</td>\n",
       "      <td>1672</td>\n",
       "      <td>15346</td>\n",
       "    </tr>\n",
       "    <tr>\n",
       "      <th>123252</th>\n",
       "      <td>123252</td>\n",
       "      <td>36</td>\n",
       "      <td>34062.902531</td>\n",
       "      <td>0.247122</td>\n",
       "      <td>1</td>\n",
       "      <td>77</td>\n",
       "      <td>5950</td>\n",
       "      <td>2017</td>\n",
       "      <td>7890</td>\n",
       "    </tr>\n",
       "    <tr>\n",
       "      <th>123253</th>\n",
       "      <td>123253</td>\n",
       "      <td>67</td>\n",
       "      <td>24609.838522</td>\n",
       "      <td>0.020752</td>\n",
       "      <td>1</td>\n",
       "      <td>279</td>\n",
       "      <td>6278</td>\n",
       "      <td>1847</td>\n",
       "      <td>7846</td>\n",
       "    </tr>\n",
       "    <tr>\n",
       "      <th>123254</th>\n",
       "      <td>123254</td>\n",
       "      <td>36</td>\n",
       "      <td>23378.281337</td>\n",
       "      <td>0.092221</td>\n",
       "      <td>1</td>\n",
       "      <td>186</td>\n",
       "      <td>7093</td>\n",
       "      <td>6109</td>\n",
       "      <td>13016</td>\n",
       "    </tr>\n",
       "  </tbody>\n",
       "</table>\n",
       "<p>123255 rows × 9 columns</p>\n",
       "</div>"
      ],
      "text/plain": [
       "            ID  Возраст  Доход клиента  Вероятность банкротства  \\\n",
       "0            0       19   21620.835463                 0.138061   \n",
       "1            1       27   24897.990863                 0.035508   \n",
       "2            2       50   23989.526947                 0.098793   \n",
       "3            3       18   38442.409756                 0.365661   \n",
       "4            4       24   21291.521612                 0.036909   \n",
       "...        ...      ...            ...                      ...   \n",
       "123250  123250       32   26099.633927                 0.110756   \n",
       "123251  123251       20   24579.749275                 0.113920   \n",
       "123252  123252       36   34062.902531                 0.247122   \n",
       "123253  123253       67   24609.838522                 0.020752   \n",
       "123254  123254       36   23378.281337                 0.092221   \n",
       "\n",
       "        Флаг утилизации счёта  Расходы  PV КК  PV услуги    NPV  \n",
       "0                           0      102      0          0   -102  \n",
       "1                           1      409  11686       1754  13031  \n",
       "2                           0       16      0          0    -16  \n",
       "3                           1      788  13738       1578  14528  \n",
       "4                           1     1048   6594       2213   7759  \n",
       "...                       ...      ...    ...        ...    ...  \n",
       "123250                      0       47      0          0    -47  \n",
       "123251                      1      594  14268       1672  15346  \n",
       "123252                      1       77   5950       2017   7890  \n",
       "123253                      1      279   6278       1847   7846  \n",
       "123254                      1      186   7093       6109  13016  \n",
       "\n",
       "[123255 rows x 9 columns]"
      ]
     },
     "execution_count": 38,
     "metadata": {},
     "output_type": "execute_result"
    }
   ],
   "source": [
    "data = pd.read_csv('hist_credit_card.csv')\n",
    "data"
   ]
  },
  {
   "cell_type": "markdown",
   "id": "9ca6baf3-0509-4528-aa38-34ac0de1119e",
   "metadata": {},
   "source": []
  },
  {
   "cell_type": "markdown",
   "id": "e36b594c",
   "metadata": {
    "id": "e36b594c"
   },
   "source": [
    "### 2. Альтернатива в критерии."
   ]
  },
  {
   "cell_type": "code",
   "execution_count": null,
   "id": "pBmniztEjRQP",
   "metadata": {
    "id": "pBmniztEjRQP"
   },
   "outputs": [],
   "source": []
  },
  {
   "cell_type": "markdown",
   "id": "692b97f3",
   "metadata": {
    "id": "692b97f3"
   },
   "source": [
    "### 3. Нужно выбрать параметр(-ы), влияющий(-ие) на целевую метрику. Привести аргументацию."
   ]
  },
  {
   "cell_type": "code",
   "execution_count": null,
   "id": "4bYv6W9ljUEg",
   "metadata": {
    "id": "4bYv6W9ljUEg"
   },
   "outputs": [],
   "source": []
  },
  {
   "cell_type": "markdown",
   "id": "9b40ecbb",
   "metadata": {
    "id": "9b40ecbb"
   },
   "source": [
    "### 4.1. Каков размер выборки? Привести аргументацию и написать как получилось то или иное число."
   ]
  },
  {
   "cell_type": "code",
   "execution_count": null,
   "id": "tk7WBLvmjSnM",
   "metadata": {
    "id": "tk7WBLvmjSnM"
   },
   "outputs": [],
   "source": []
  },
  {
   "cell_type": "markdown",
   "id": "b13ea8ee",
   "metadata": {
    "id": "b13ea8ee"
   },
   "source": [
    "### 4.2. Необходимо запросить у бота в Телеграме выборку полученного размера командой `/get_project2_sample {размер выборки}` и вписать <ins>код выборки</ins>:"
   ]
  },
  {
   "cell_type": "code",
   "execution_count": null,
   "id": "F5c-oqIBjVJS",
   "metadata": {
    "id": "F5c-oqIBjVJS"
   },
   "outputs": [],
   "source": []
  },
  {
   "cell_type": "markdown",
   "id": "f6945c8f",
   "metadata": {
    "id": "f6945c8f"
   },
   "source": [
    "### 5. Проверка на однородность, применение критерия. Принятие решения. Расписать подробно с аргументами."
   ]
  },
  {
   "cell_type": "code",
   "execution_count": null,
   "id": "LVlEnA4DjWp5",
   "metadata": {
    "id": "LVlEnA4DjWp5"
   },
   "outputs": [],
   "source": []
  }
 ],
 "metadata": {
  "colab": {
   "provenance": []
  },
  "kernelspec": {
   "display_name": "Python 3 (ipykernel)",
   "language": "python",
   "name": "python3"
  },
  "language_info": {
   "codemirror_mode": {
    "name": "ipython",
    "version": 3
   },
   "file_extension": ".py",
   "mimetype": "text/x-python",
   "name": "python",
   "nbconvert_exporter": "python",
   "pygments_lexer": "ipython3",
   "version": "3.12.4"
  }
 },
 "nbformat": 4,
 "nbformat_minor": 5
}
